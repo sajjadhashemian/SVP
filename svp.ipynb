{
 "cells": [
  {
   "cell_type": "code",
   "execution_count": null,
   "metadata": {},
   "outputs": [],
   "source": [
    "import numpy as np\n",
    "from numpy.linalg import norm\n",
    "from fpylll import FPLLL, SVP, CVP\n",
    "from copy import copy\n",
    "import math\n",
    "from svp import __decision_svp\n",
    "from lattice_generator import generate_random_instance, generate_hard_instance, reduced_basis\n",
    "\n",
    "np.random.seed(1337)\n",
    "FPLLL.set_random_seed(1337)"
   ]
  },
  {
   "cell_type": "code",
   "execution_count": null,
   "metadata": {},
   "outputs": [
    {
     "name": "stdout",
     "output_type": "stream",
     "text": [
      "------------------------------------\n",
      "fpylll solution:\n",
      "[138858514, 1386531463, 1395983580, 1102869228, 2373372017, -83745651, -89447151, 306420357, 1279104478, 611527299, 1534556608, -884584334, -281569383, 109045096] \n",
      " Norm: 4010890630.299641\n",
      "------------------------------------\n",
      "my solution:\n",
      "[-138858514, -1386531463, -1395983580, -1102869228, -2373372017, 83745651, 89447151, -306420357, -1279104478, -611527299, -1534556608, 884584334, 281569383, -109045096] \n",
      " Norm: 4010890630.299641\n",
      "------------------------------------\n",
      "verify solution:\n",
      "Verdict: True , Comparing solutions: True\n"
     ]
    }
   ],
   "source": [
    "n, b= 14, 32\n",
    "X = generate_random_instance(b, n)\n",
    "\n",
    "# n, p, r= 17, 97, 3\n",
    "# X = generate_hard_instance(n, p, r)\n",
    "\n",
    "A, B = reduced_basis(X, n)\n",
    "\n",
    "X=copy(A)\n",
    "SVP.shortest_vector(A)\n",
    "s, l = A[0], norm(A[0])\n",
    "print('------------------------------------')\n",
    "print('fpylll solution:')\n",
    "print([int(x) for x in s],'\\n Norm:', l)\n",
    "# print([int(x) for x in inv(B)@s])\n",
    "\n",
    "print('------------------------------------')\n",
    "print('my solution:')\n",
    "C = 1\t\t\t\t\t\t\t\t\t\t\t\t\t\t\t#Working fine, but C~20: 2*e*pi\n",
    "num_samples=int(2**(C*n))*int(math.log2(n))\n",
    "s, _l = __decision_svp(B, n, l, l, num_samples)\n",
    "\n",
    "print([-int(x) for x in s],'\\n Norm:', _l)\n",
    "\n",
    "print('------------------------------------')\n",
    "print('verify solution:')\n",
    "# print(X)\n",
    "# print('coefficients vector:  ',[int(x) for x in pinv(B)@s])\n",
    "# print('reconstructed vector: ' ,list(B@[int(x) for x in pinv(B)@s]))\n",
    "\n",
    "v0 = CVP.closest_vector(X, tuple([int(x) for x in s]))\n",
    "# print('Verify with CVP:      ',[int(x) for x in v0],'\\n norm:',norm(v0))\n",
    "print('Verdict:', bool(abs(norm(v0)-_l)<1e-3), ', Comparing solutions:', bool(l<=_l+1e-6))"
   ]
  }
 ],
 "metadata": {
  "kernelspec": {
   "display_name": "base",
   "language": "python",
   "name": "python3"
  },
  "language_info": {
   "codemirror_mode": {
    "name": "ipython",
    "version": 3
   },
   "file_extension": ".py",
   "mimetype": "text/x-python",
   "name": "python",
   "nbconvert_exporter": "python",
   "pygments_lexer": "ipython3",
   "version": "3.9.12"
  }
 },
 "nbformat": 4,
 "nbformat_minor": 2
}
