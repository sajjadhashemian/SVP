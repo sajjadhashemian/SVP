{
 "cells": [
  {
   "cell_type": "code",
   "execution_count": 678,
   "metadata": {},
   "outputs": [],
   "source": [
    "import numpy as np\n",
    "from numpy.linalg import norm, inv, pinv\n",
    "from fpylll import FPLLL, IntegerMatrix, SVP, LLL, BKZ, CVP\n",
    "from fpylll.algorithms.bkz import BKZReduction\n",
    "from scipy.special import gammainc, gammaincinv, gammainccinv\n",
    "from copy import copy\n",
    "import math\n",
    "from multiprocessing import Pool, cpu_count\n",
    "from svp import __svp as __svp__\n",
    "\n",
    "import time\n",
    "\n",
    "# start = time.time()\n",
    "# print(\"hello\")\n",
    "# end = time.time()\n",
    "# print(end - start)\n",
    "\n",
    "np.random.seed(1337)\n",
    "FPLLL.set_random_seed(1337)"
   ]
  },
  {
   "cell_type": "code",
   "execution_count": 679,
   "metadata": {},
   "outputs": [],
   "source": [
    "def inverse_transform_sampling(R, sigma, n):\n",
    "    r = np.random.normal(R, sigma)\n",
    "    direction = np.random.normal(0, 1, n)\n",
    "    return r * direction"
   ]
  },
  {
   "cell_type": "code",
   "execution_count": 680,
   "metadata": {},
   "outputs": [],
   "source": [
    "def lattice_vector(v, B):\n",
    "    # return B@[int(x) for x in inv(B)@v]\n",
    "    return B@np.array([int(x) for x in pinv(B)@v])"
   ]
  },
  {
   "cell_type": "code",
   "execution_count": 681,
   "metadata": {},
   "outputs": [],
   "source": [
    "def __svp(B, n, R, sigma, num_samples):\n",
    "\ts, l = -1, 2**n*norm(B)\n",
    "\tT1, T2=0,0\n",
    "\tfor _ in range(num_samples):\n",
    "\t\tt1=time.time()\n",
    "\t\tx = inverse_transform_sampling(R, sigma, n)\n",
    "\t\tt2=time.time()\n",
    "\t\tx=lattice_vector(x, B)\n",
    "\t\tt3=time.time()\n",
    "\t\tif(norm(x)>0 and norm(x)<l):\n",
    "\t\t\ts, l=x,norm(x)\n",
    "\t\tT1+=t2-t1\n",
    "\t\tT2+=t3-t2\n",
    "\tprint(T1,T2)\n",
    "\treturn s,l"
   ]
  },
  {
   "cell_type": "code",
   "execution_count": 682,
   "metadata": {},
   "outputs": [],
   "source": [
    "def parallel_svp(B, n, R, sigma, num_samples, processes=None):\n",
    "    if processes is None:\n",
    "        processes = cpu_count()\n",
    "    print(f'computing with {processes} processes.')\n",
    "    args = [(B, n, R, sigma, num_samples//processes) for _ in range(processes)]\n",
    "    with Pool(processes) as pool:\n",
    "        results = pool.starmap(__svp__, args)\n",
    "    best_s, best_l = min(results, key=lambda x: x[1])\n",
    "\n",
    "    return best_s, best_l"
   ]
  },
  {
   "cell_type": "code",
   "execution_count": 683,
   "metadata": {},
   "outputs": [],
   "source": [
    "def __SVP(B, n, t):\n",
    "\tl, r = 0, min(norm(x) for x in B)\n",
    "\ts, L = -1, r\n",
    "\tprint(l,r)\n",
    "\tfor _ in range(10):\n",
    "\t\tm=(l+r)/2\n",
    "\t\tprint(_, int(m), int(L), '->', int(l), int(r))\n",
    "\t\t_s, _L=parallel_svp(B, n, m, m, t)\n",
    "\t\tif(_L<L):\n",
    "\t\t\ts, L=_s, _L\n",
    "\t\telse:\n",
    "\t\t\t_s, _L = s, L\n",
    "\t\tr=_L\n",
    "\t\tif(_L>m):\n",
    "\t\t\tl=m\n",
    "\t\telse:\n",
    "\t\t\tl=m/2\n",
    "\treturn s,L"
   ]
  },
  {
   "cell_type": "code",
   "execution_count": 684,
   "metadata": {},
   "outputs": [],
   "source": [
    "def generate_random_instance(b, n):\n",
    "\tA = IntegerMatrix(n,n)\n",
    "\tA.randomize(\"uniform\", bits=b)\n",
    "\t# A=[[-1248884424688331397, 217379346648022931, 968695965772720018],\n",
    "\t#    [-252808953422802017, 44003627585902284, 196091014068821624],\n",
    "\t#    [-480021271462343831, 83551935074919420, 372328023281023077]]\n",
    "\t# A = IntegerMatrix.from_matrix(A)\n",
    "\t# print(A)\n",
    "\treturn A"
   ]
  },
  {
   "cell_type": "code",
   "execution_count": 685,
   "metadata": {},
   "outputs": [],
   "source": [
    "def generate_hard_instance(n, q, r):\n",
    "\t\"\"\"\n",
    "\tGenerates a hard SVP instance with a short basis using Ajtai99.\n",
    "    n: Lattice dimension\n",
    "    q: Modulus for lattice entries (should be prime or appropriate for lattice properties)\n",
    "\tr: Number of initial random vectors\n",
    "\t\"\"\"\n",
    "\t# Step 1: Generate random vectors `u_i` in `Z_q^n`\n",
    "\t# Step 2: Construct the matrix `A` following Ajtai's block structure\n",
    "\tu_vectors = np.random.randint(0, q, (r, n))\n",
    "\tA1 = np.eye(r, dtype=int)\n",
    "\tA2 = np.random.randint(-q//2, q//2, (n - r, n - r))\n",
    "\tA = np.block([\n",
    "        [A1, np.zeros((r, n - r), dtype=int)], \n",
    "        [np.zeros((n - r, r), dtype=int), A2]\n",
    "    ])\n",
    "    \n",
    "    # Step 3: Define `B` as a lower triangular matrix with padding for proper dimensions\n",
    "    # Step 4: Construct lattice basis using matrix multiplication with modulo q\n",
    "\tB_core = np.tril(np.random.randint(-r, r, (n - r, n - r)))\n",
    "\tB = np.hstack([np.zeros((n - r, r), dtype=int), B_core])  # Pad B to shape (n - r, n)\n",
    "\tlattice_basis = (A @ np.vstack([u_vectors, B]) % q)\n",
    "\n",
    "    # Step 5: Enforce norm constraints on basis vectors\n",
    "\tnorm_bound = np.sqrt(n) * n\n",
    "\tfor i in range(lattice_basis.shape[0]):\n",
    "\t\tvector_norm = np.linalg.norm(lattice_basis[i])\n",
    "\t\tif vector_norm > norm_bound:\n",
    "\t\t\tlattice_basis[i] = (lattice_basis[i] / vector_norm) * norm_bound\n",
    "\n",
    "\treturn lattice_basis.astype(int)\n",
    "# generate_hard_instance(10,97,3)"
   ]
  },
  {
   "cell_type": "code",
   "execution_count": 686,
   "metadata": {},
   "outputs": [],
   "source": [
    "def reduced_basis(X, n):\n",
    "\tB=list([])\n",
    "\tfor i in range(n):\n",
    "\t\tB.append([0 for _ in range(n)])\n",
    "\t\tfor j in range(n):\n",
    "\t\t\tB[i][j]=int(X[i][j])\n",
    "\tA = IntegerMatrix.from_matrix(B)\n",
    "\n",
    "\tbarA=LLL.reduction(A)\n",
    "\t# A = BKZ.reduction(A, BKZ.Param(20))\n",
    "\t\n",
    "\tB=list([])\n",
    "\tfor i in range(n):\n",
    "\t\tB.append([0 for _ in range(n)])\n",
    "\t\tfor j in range(n):\n",
    "\t\t\tB[i][j]=int(barA[i][j])\n",
    "\tB=np.array(B).T\n",
    "\treturn A, B"
   ]
  },
  {
   "cell_type": "code",
   "execution_count": 687,
   "metadata": {},
   "outputs": [
    {
     "name": "stdout",
     "output_type": "stream",
     "text": [
      "------------------------------------\n",
      "fpylll solution:\n",
      "[-452848946, -1149864540, -439679276, 499762204, 856713830, -1398252645, -838336197, -1077290477, 1735376101, 638539914, 643434089, -605019993] \n",
      " Norm: 3274460597.3872533\n",
      "------------------------------------\n",
      "my solution:\n",
      "computing with 8 processes.\n",
      "[-452848946, -1149864540, -439679276, 499762204, 856713830, -1398252645, -838336197, -1077290477, 1735376101, 638539914, 643434089, -605019993] \n",
      " Norm: 3274460597.3872533\n",
      "------------------------------------\n",
      "verify solution:\n",
      "Verdict: True , Comparing solutions: True\n"
     ]
    }
   ],
   "source": [
    "n, b= 12, 32\n",
    "X = generate_random_instance(b, n)\n",
    "\n",
    "# n, p, r= 17, 97, 3\n",
    "# X = generate_hard_instance(n, p, r)\n",
    "\n",
    "A, B = reduced_basis(X, n)\n",
    "\n",
    "X=copy(A)\n",
    "SVP.shortest_vector(A)\n",
    "s, l = A[0], norm(A[0])\n",
    "print('------------------------------------')\n",
    "print('fpylll solution:')\n",
    "print([int(x) for x in s],'\\n Norm:', l)\n",
    "# print([int(x) for x in inv(B)@s])\n",
    "\n",
    "print('------------------------------------')\n",
    "print('my solution:')\n",
    "C = 1\t\t\t\t\t\t\t\t\t\t\t\t\t\t\t#Working fine, but C~20: 2*e*pi\n",
    "num_samples=int(2**(C*n))*int(math.log2(n))\n",
    "# s,_l=__svp(B, n, l, l, num_samples)\n",
    "# s, _l=__SVP(B, n, num_samples)\n",
    "s, _l = parallel_svp(B, n, l, l, num_samples)\n",
    "\n",
    "print([-int(x) for x in s],'\\n Norm:', _l)\n",
    "\n",
    "print('------------------------------------')\n",
    "print('verify solution:')\n",
    "# print(X)\n",
    "# print('coefficients vector:  ',[int(x) for x in pinv(B)@s])\n",
    "# print('reconstructed vector: ' ,list(B@[int(x) for x in pinv(B)@s]))\n",
    "\n",
    "v0 = CVP.closest_vector(X, tuple([int(x) for x in s]))\n",
    "# print('Verify with CVP:      ',[int(x) for x in v0],'\\n norm:',norm(v0))\n",
    "print('Verdict:', bool(abs(norm(v0)-_l)<1e-3), ', Comparing solutions:', bool(l<=_l+1e-6))"
   ]
  }
 ],
 "metadata": {
  "kernelspec": {
   "display_name": "base",
   "language": "python",
   "name": "python3"
  },
  "language_info": {
   "codemirror_mode": {
    "name": "ipython",
    "version": 3
   },
   "file_extension": ".py",
   "mimetype": "text/x-python",
   "name": "python",
   "nbconvert_exporter": "python",
   "pygments_lexer": "ipython3",
   "version": "3.9.12"
  }
 },
 "nbformat": 4,
 "nbformat_minor": 2
}
